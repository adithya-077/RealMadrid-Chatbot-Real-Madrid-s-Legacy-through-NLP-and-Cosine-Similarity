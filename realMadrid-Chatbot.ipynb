{
 "cells": [
  {
   "cell_type": "code",
   "execution_count": 397,
   "id": "c39cab49",
   "metadata": {},
   "outputs": [
    {
     "name": "stderr",
     "output_type": "stream",
     "text": [
      "[nltk_data] Downloading package punkt to\n",
      "[nltk_data]     C:\\Users\\nadit\\AppData\\Roaming\\nltk_data...\n",
      "[nltk_data]   Package punkt is already up-to-date!\n",
      "[nltk_data] Downloading package wordnet to\n",
      "[nltk_data]     C:\\Users\\nadit\\AppData\\Roaming\\nltk_data...\n",
      "[nltk_data]   Package wordnet is already up-to-date!\n"
     ]
    },
    {
     "data": {
      "text/plain": [
       "True"
      ]
     },
     "execution_count": 397,
     "metadata": {},
     "output_type": "execute_result"
    }
   ],
   "source": [
    "import nltk\n",
    "import random\n",
    "import string\n",
    "import warnings\n",
    "warnings.filterwarnings('ignore')\n",
    "from sklearn.feature_extraction.text import TfidfVectorizer\n",
    "from sklearn.metrics.pairwise import cosine_similarity\n",
    "GREETINGS_INPUT = (\"HELLO\",\"HOLA\",\"VANAKAM\",\"NAMASTE\",\"HEY THERE!!\",\"HEYY\",\"HEY\")\n",
    "GREETINGS_RES = (\"HELLO\",\"HOLA\",\"VANAKAM\",\"NAMASTE\",\"HEY THERE!!\",\"HEYY\",\"HEY\")\n",
    "rempun = dict((ord(i),None) for i in string.punctuation)\n",
    "nltk.download('punkt')\n",
    "nltk.download('wordnet')"
   ]
  },
  {
   "cell_type": "code",
   "execution_count": 398,
   "id": "8b2063b9",
   "metadata": {},
   "outputs": [],
   "source": [
    "txtfile = open(\"./rm.txt\",'r',errors='ignore').read()\n",
    "file = txtfile.lower()"
   ]
  },
  {
   "cell_type": "markdown",
   "id": "590d42bc",
   "metadata": {},
   "source": []
  },
  {
   "cell_type": "code",
   "execution_count": 399,
   "id": "1ea50b4b",
   "metadata": {},
   "outputs": [],
   "source": [
    "CHAT_BOT_HISTORY = {}"
   ]
  },
  {
   "cell_type": "code",
   "execution_count": 400,
   "id": "a0e833a1",
   "metadata": {},
   "outputs": [],
   "source": [
    "sentance_token = file.split('\\n\\n')\n",
    "word_token = nltk.word_tokenize(file)"
   ]
  },
  {
   "cell_type": "code",
   "execution_count": 401,
   "id": "a5eddddd",
   "metadata": {},
   "outputs": [
    {
     "data": {
      "text/plain": [
       "['the 1950s marked a period of unprecedented success for real madrid, cementing its status as a football dynasty. central to this success was the visionary leadership of santiago bernabã©u, who understood the importance of international competition. the introduction of the european cup in 1955 presented real madrid with a platform to showcase its talent on a global stage.',\n",
       " \"real madrid's dominance in the early years of the european cup was nothing short of remarkable. led by the legendary alfredo di stã©fano, the team clinched five consecutive titles from 1956 to 1960. di stã©fano's versatility and skill made him the cornerstone of the team, and he remains one of the club's all-time greats.\",\n",
       " \"in these historic victories, real madrid faced formidable opponents from across europe. the club's ability to perform consistently at the highest level reflected the quality of its players, the tactical acumen of its coaches, and the passionate support of its fans. the likes of ferenc puskã¡s, who formed a formidable partnership with di stã©fano, and francisco gento, who holds the record for most european cup titles, contributed significantly to these triumphs.\",\n",
       " 'as football evolved, so did real madrid\\'s playing style. the late 20th century saw the rise of the \"galã¡cticos\" era, characterized by the club\\'s penchant for attracting some of the world\\'s most talented and high-profile players. this approach was fueled by the desire to not only win on the pitch but also to maintain the club\\'s global brand and marketability.',\n",
       " 'the arrival of players like zinedine zidane, ronaldo nazã¡rio, luã\\xads figo, and david beckham added a new dimension to real madrid\\'s image. these players weren\\'t just athletes; they were cultural icons. their on-field performances and star power brought a heightened level of attention to the club and elevated its global reach. although the \"galã¡cticos\" era yielded successes, including a la liga title and uefa champions league victories, it also raised questions about the balance between individual brilliance and team cohesion.',\n",
       " \"the 21st century brought a resurgence of success for real madrid. one name that became synonymous with this resurgence was zinedine zidane. as both a player and a manager, zidane left an indelible mark on the club. his exceptional vision and tactical prowess as a manager guided real madrid to three consecutive uefa champions league titles from 2016 to 2018â€”a remarkable achievement that showcased the team's resilience and tactical flexibility.\",\n",
       " 'zidane\\'s ability to manage egos and extract the best from his players was evident during his tenure. the \"bbc\" trioâ€”gareth bale, karim benzema, and cristiano ronaldoâ€”thrived under his guidance, spearheading the team\\'s attacking prowess. the champions league victories of this period solidified real madrid\\'s reputation as a force to be reckoned with in european football.',\n",
       " 'no discussion about real madrid is complete without delving into the intense rivalry with fc barcelona, famously known as \"el clã¡sico.\" this fixture transcends the sport itself, reflecting historical, political, and cultural tensions between the regions of catalonia (barcelona) and castile (madrid).',\n",
       " \"the rivalry dates back to the early 20th century and has witnessed some of football's most iconic moments. from di stã©fano's transfer saga to the clashes between lionel messi and cristiano ronaldo, el clã¡sico has produced countless memorable moments etched in football history.\",\n",
       " 'the socio-political undertones of the rivalry add layers of complexity to the matches. the rivalry is a source of regional pride and identity, intertwining sports with larger cultural narratives. el clã¡sico matches are watched by millions globally, uniting and dividing fans in equal measure.',\n",
       " \"real madrid's influence extends far beyond the football pitch. the club's iconic all-white kit, adorned with the royal crest, has become a symbol of excellence recognized around the world. the santiago bernabã©u stadium stands as a monument to the club's history and achievements, hosting not only matches but also events that celebrate sports, music, and culture.\",\n",
       " \"the global fanbase of real madrid is a testament to the club's universal appeal. supporters from different countries and cultures rally behind the team, creating a diverse and passionate community. real madrid's brand transcends borders, influencing various aspects of popular culture. from fashion to advertising, the club's emblem is often used to evoke a sense of prestige and success.\",\n",
       " \"real madrid's history is a tapestry woven with triumphs, rivalries, and global impact. from its humble beginnings over a century ago, the club has evolved into a global footballing institution. the vision of leaders like santiago bernabã©u, the heroics of players like di stã©fano and ronaldo, and the managerial brilliance of zidane have all contributed to the club's enduring success.\",\n",
       " \"real madrid's legacy extends far beyond the trophies it has won. it's a testament to the power of sports to unite, inspire, and create lasting memories. as the club steps into the future, its history serves as a reminder of the dedication, passion, and pursuit of excellence that define the essence of real madrid club de fãºtbol.\",\n",
       " \"the uefa champions league, europe's premier club competition, has been a stage of glory and drama for real madrid. the club's history in the tournament is a testament to its dominance and determination to conquer the continent.\",\n",
       " \"real madrid's storied champions league journey includes numerous triumphs that have left an indelible mark on football history. the club's first victory in the modern era came in 1956 when they triumphed over stade de reims, laying the foundation for their european dominance. the iconic all-white kit became synonymous with their european ambitions, inspiring fear in opponents.\",\n",
       " \"in 1966, real madrid faced another defining moment when they met partizan belgrade in the final. a thrilling encounter ended with real madrid securing their sixth european title, solidifying their reputation as kings of the continent. however, a period of relative drought followed, with the club's european dreams temporarily deferred.\",\n",
       " \"the 1980s saw a resurgence as real madrid, led by the likes of emilio butragueã±o and hugo sã¡nchez, reached consecutive semi-finals. it wasn't until 1998 that the club would add another champions league trophy to their collection. the final against juventus witnessed predrag mijatoviä‡'s iconic goal that secured the title and announced real madrid's return to the european elite.\",\n",
       " 'fast forward to the modern era, and real madrid\\'s partnership with the champions league has been nothing short of remarkable. the club clinched \"la dã©cima\" in 2014, their tenth european title, under the management of carlo ancelotti. a dramatic final against atletico madrid saw sergio ramos\\'s stoppage-time header force extra time, where real madrid emerged victorious.',\n",
       " \"the managerial reign of zinedine zidane brought unprecedented success, as real madrid secured three consecutive champions league titles from 2016 to 2018. these victories showcased the team's resilience, tactical prowess, and the clinical finishing of players like cristiano ronaldo. the victory over liverpool in the 2018 final saw gareth bale's unforgettable bicycle kickâ€”a moment etched in champions league history.\",\n",
       " \"real madrid's history in la liga, spain's top domestic league, is a testament to the club's consistency and competitive spirit. the club's performances on the national stage have contributed significantly to its enduring legacy.\",\n",
       " \"throughout the years, real madrid has engaged in fierce battles with rival clubs, particularly fc barcelona, for domestic supremacy. the club's early years in la liga were marked by successes, including the 1931-32 title, showcasing their prowess even in the league's formative years.\",\n",
       " \"the 1950s saw a remarkable era of dominance as real madrid clinched multiple la liga titles, complementing their european successes. players like di stã©fano and puskã¡s became household names, spearheading the team's attacking style of play that thrilled fans.\",\n",
       " 'in more recent times, the \"galã¡cticos\" era saw real madrid securing la liga titles alongside their international triumphs. players like zidane, ronaldo nazã¡rio, and beckham not only elevated the team\\'s performance but also brought a sense of glamour to spanish football.',\n",
       " \"under the managerial guidance of zinedine zidane, real madrid's domestic achievements continued. the club secured a la liga title in the 2016-17 season, showcasing a blend of defensive solidity and attacking flair. zidane's ability to manage a squad filled with stars ensured consistent performances across various competitions.\",\n",
       " \"\\nreal madrid's rivalries extend beyond el clã¡sico, with another intense contest against their city rivals, atletico madrid, in the form of el derbi madrileã±o. this rivalry encapsulates the essence of the city's footballing culture and has produced some of the most memorable matches in history.\",\n",
       " 'el derbi madrileã±o showcases contrasting styles and ideologies. while real madrid represents the aristocracy and global glamour, atletico madrid embodies the working-class spirit and resilience. this contrast creates an electric atmosphere whenever the teams meet.',\n",
       " \"one of the most unforgettable chapters of this rivalry unfolded in the uefa champions league finals of 2014 and 2016. real madrid faced atletico madrid in both instances, with the 2014 final marking the start of their champions league streak under zinedine zidane. the final went into extra time, and real madrid emerged victorious, overcoming atletico's stern challenge.\",\n",
       " \"in 2016, the two teams faced off again in the final. the match witnessed dramatic moments, including sergio ramos's last-minute equalizer. real madrid eventually secured victory in a nerve-wracking penalty shootout, extending their european glory.\",\n",
       " \"real madrid's rich history is woven with matches that have become the stuff of legend, shaping the club's identity and narrative. these historic encounters have left an indelible mark on the sport and are recounted by fans and historians alike.\",\n",
       " 'the \"la saeta rubia\" encounter:\\nin 1955, real madrid faced a unique challenge in a friendly match against argentine club racing club. the encounter was more than just a game; it was a tribute to alfredo di stã©fano, who had played for both clubs. the \"la saeta rubia\" (the blond arrow) was the embodiment of footballing excellence and versatility. the match served as a symbol of unity in football, celebrating the impact of a true global icon.',\n",
       " 'the \"di stã©fano final\":\\nthe 1960 european cup final between real madrid and eintracht frankfurt is fondly remembered as the \"di stã©fano final.\" played at hampden park in glasgow, the match was a spectacle of attacking football. real madrid secured a comprehensive 7-3 victory, with di stã©fano himself scoring a hat-trick. this final showcased the power of teamwork, creativity, and di stã©fano\\'s footballing genius.',\n",
       " 'the \"zidane volley\" in the 2002 final:\\nthe 2002 uefa champions league final between real madrid and bayer leverkusen featured one of the most iconic goals in football history. zinedine zidane\\'s breathtaking volley, struck with elegance and precision, secured real madrid\\'s ninth european title. the goal is immortalized in football folklore as a testament to zidane\\'s skill and the beauty of the sport.',\n",
       " 'the \"decima\" triumph:\\nthe journey to secure \"la dã©cima\" was an odyssey for real madrid. the 2014 uefa champions league final against atletico madrid witnessed the determination and fighting spirit that define the club. sergio ramos\\'s stoppage-time header equalized the match, leading to extra time, where real madrid\\'s class prevailed. goals from bale, marcelo, and ronaldo sealed the historic tenth european title.',\n",
       " \"in conclusion, real madrid's uefa champions league history, la liga triumphs, historic rivalries, and legendary matches are a tapestry of footballing excellence and drama. the club's legacy is built on a foundation of dedication, talent, and a relentless pursuit of victory. as real madrid continues its journey, its history serves as a reminder of the enduring impact of the sport on both the club and the world of football.\",\n",
       " 'alfredo di stã©fano: often regarded as the most influential player in real madrid\\'s history, alfredo di stã©fano\\'s impact extended beyond the pitch. his versatility, impeccable technique, and leadership qualities epitomized the ethos of real madrid. di stã©fano played a crucial role in the club\\'s domination of european football during the 1950s, helping them secure five consecutive european cup titles from 1956 to 1960. his legacy is so profound that he\\'s often referred to as the \"blond arrow\" and remains an embodiment of real madrid\\'s success.',\n",
       " \"cristiano ronaldo: a modern-day icon, cristiano ronaldo's tenure at real madrid witnessed a goal-scoring spectacle that is unlikely to be replicated soon. his athleticism, goal-scoring prowess, and dedication propelled him to become the club's all-time leading scorer. ronaldo's nine seasons at the club were marked by four champions league titles, two la liga titles, and numerous individual awards, cementing his status as one of the greatest players in football history.\",\n",
       " \"raãºl: as a product of real madrid's youth academy, la fã¡brica, raãºl emerged as a symbol of homegrown excellence. his loyalty, football intelligence, and goal-scoring ability earned him the title of the club's all-time appearances leader for many years. raãºl's captaincy during the early 2000s saw him lead real madrid to three champions league trophies and countless domestic triumphs.\",\n",
       " \"ferenc puskã¡s: the hungarian maestro, ferenc puskã¡s, dazzled the football world with his extraordinary skills and innovative techniques. after fleeing his home country due to political unrest, puskã¡s found a new home at real madrid. his partnership with di stã©fano formed the backbone of the club's success during the 1950s. puskã¡s's influence on the european cup victories and his mesmerizing performances in the iconic white jersey solidified his place in real madrid's pantheon.\",\n",
       " \"iker casillas: the embodiment of a loyal servant, iker casillas emerged as one of the greatest goalkeepers in the history of real madrid. his leadership, agility, and shot-stopping abilities were integral to the club's successes, including three champions league titles and five la liga championships. casillas's time at real madrid spanned over two decades, making him a true legend both on and off the pitch.\",\n",
       " \"zinedine zidane: while his time at real madrid as a player was relatively brief, zinedine zidane's impact was monumental. his elegance, vision, and masterful control of the ball made him a pivotal figure in the club's quest for success. zidane's iconic volley in the 2002 champions league final stands as a testament to his ability to deliver on the grandest stages. in his later role as a manager, zidane continued his legacy by leading the team to three consecutive champions league titles from 2016 to 2018.\",\n",
       " \"santiago bernabã©u: though not a player, santiago bernabã©u deserves a special mention. as a player, he represented real madrid in the 1910s and 1920s. however, it was his visionary leadership as the club's president from 1943 to 1978 that transformed real madrid into a global football powerhouse. he oversaw the construction of the santiago bernabã©u stadium and the signing of legendary players like di stã©fano and puskã¡s.\",\n",
       " \"fernando hierro: a versatile and commanding defender, fernando hierro epitomized leadership and dedication during his time at real madrid. his ability to score crucial goals from defense, coupled with his defensive prowess, made him an essential part of the team. hierro's partnership with other defensive greats ensured the team's success during the late 1990s and early 2000s, including three champions league victories.\",\n",
       " \"francisco gento: a fleet-footed winger, francisco gento remains the player with the most european cup/champions league titles to his name â€“ six in total. his lightning-fast pace, dribbling skills, and ability to deliver accurate crosses terrorized opposing defenses. gento's contributions during the 1950s and 1960s played a pivotal role in establishing real madrid as a european powerhouse.\",\n",
       " \"michel: as a product of real madrid's youth academy, michel was a creative midfielder known for his exceptional passing ability and precise free-kicks. he spent over a decade at the club during the 1980s and early 1990s, winning numerous la liga titles and a uefa cup.\",\n",
       " \"ferenc puskã¡s: though mentioned earlier, puskã¡s's significance warrants a deeper exploration. the hungarian forward's arrival at real madrid after the 1956 hungarian revolution was a turning point in the club's history. his remarkable goal-scoring record and incredible technique were pivotal in the team's five successive european cup titles.\",\n",
       " \"karim benzema: a modern-day stalwart, karim benzema has consistently been a dependable source of goals and creativity for real madrid. his link-up play, movement, and ability to score crucial goals in big matches have made him an integral part of the team's success during the 2010s, including multiple champions league triumphs.\",\n",
       " \"roberto carlos: the brazilian left-back redefined the role of a full-back with his explosive speed, powerful shots, and exceptional crossing ability. his iconic free-kick against france in 1997 remains etched in football history. roberto carlos's time at real madrid saw him win numerous domestic and international titles, including three champions league trophies.\",\n",
       " \"ronaldo luã\\xads nazã¡rio de lima (ronaldo): ronaldo's stint at real madrid might have been relatively short, but it was incredibly impactful. the brazilian striker's blend of speed, skill, and goal-scoring instinct left an indelible mark. during his time at the club, ronaldo contributed to a la liga title and helped real madrid reclaim its status among europe's elite clubs.\",\n",
       " \"hugo sã¡nchez: a prolific goal-scorer, hugo sã¡nchez is considered one of the best strikers in real madrid's history. his acrobatic volleys and poaching instincts led to numerous goals during the 1980s. sã¡nchez's time at the club yielded multiple la liga titles and a copa del rey.\",\n",
       " \"sergio ramos: a central figure both in defense and as a leader, sergio ramos's time at real madrid is synonymous with resilience and determination. his tenacious defending, last-minute goals, and captaincy defined an era of success. ramos led the team to numerous la liga and champions league titles, becoming a symbol of the club's fighting spirit.\",\n",
       " \"luka modriä‡: the croatian maestro, luka modriä‡, brought elegance and control to real madrid's midfield. his exceptional passing, vision, and ability to dictate the tempo of the game earned him the 2018 ballon d'or. modriä‡'s presence was integral to the team's three consecutive champions league victories from 2016 to 2018.\",\n",
       " \"gareth bale: the welsh winger's arrival brought a new dimension of speed and flair to real madrid's attacking lineup. bale's remarkable speed and powerful strikes were on full display in key moments, including his iconic overhead kick in the 2018 champions league final. his time at the club saw him contribute to numerous trophies, including la liga and champions league titles.\",\n",
       " \"casemiro: the brazilian midfielder casemiro's role in the team often goes beyond the spotlight, but his impact is undeniable. his defensive prowess, ball-winning abilities, and tactical discipline provide a solid foundation for real madrid's midfield. casemiro's contributions have been crucial in maintaining the team's balance and stability.\",\n",
       " \"marcelo: the brazilian left-back marcelo is known for his dynamic runs, creativity, and flair on the pitch. his ability to provide width and offensive threat from the back has been a hallmark of his game. marcelo's tenure has seen him win multiple domestic and international titles, including four champions league trophies.\",\n",
       " \"isco: the spanish playmaker isco's technical brilliance and close control make him a delight to watch. his ability to unlock defenses with his dribbling and passing has been a valuable asset for real madrid. isco's contributions have played a part in the team's successes in la liga and the champions league.\",\n",
       " \"karim benzema: mentioned earlier, benzema's longevity and consistency warrant reiteration. his evolution into a complete striker, with exceptional link-up play and goal-scoring ability, has made him a pillar of real madrid's attack during the modern era.\",\n",
       " \"toni kroos: the german midfielder toni kroos's metronomic passing and tactical intelligence have been instrumental in controlling games for real madrid. his ability to distribute the ball with precision and orchestrate play from midfield has played a vital role in the team's successes.\",\n",
       " \"raphael varane: a composed and intelligent defender, raphael varane's partnership with ramos at the heart of real madrid's defense was crucial during the team's champions league triumphs. varane's ability to read the game, win aerial duels, and execute crucial tackles made him a linchpin in the backline.\",\n",
       " 'la liga (spanish league) titles: 1931-32, 1932-33, 1953-54, 1954-55, 1956-57, 1957-58, 1960-61, 1961-62, 1962-63, 1963-64, 1964-65, 1966-67, 1967-68, 1968-69, 1971-72, 1974-75, 1975-76, 1977-78, 1978-79, 1979-80, 1985-86, 1986-87, 1987-88, 1988-89, 1989-90, 1994-95, 1996-97, 2000-01, 2002-03, 2006-07, 2007-08, 2011-12, 2016-17, 2019-20\\ncopa del rey (spanish cup) titles: 1905, 1906, 1907, 1908, 1917, 1934, 1936, 1946, 1947, 1961-62, 1969-70, 1973-74, 1974-75, 1979-80, 1981-82, 1988-89, 1992-93, 2010-11, 2013-14, 2020-21\\nsupercopa de espaã±a (spanish super cup) titles: 1988, 1989, 1990, 1993, 1997, 2001, 2003, 2008, 2012, 2017\\nuefa champions league / european cup titles: 1955-56, 1956-57, 1957-58, 1958-59, 1959-60, 1965-66, 1997-98, 1999-2000, 2001-02, 2013-14, 2015-16, 2016-17, 2017-18\\nuefa cup titles:1984-85, 1985-86\\nuefa super cup titles: 2002, 2014, 2016, 2017\\nfifa club world cup titles: 2014, 2018, 2020',\n",
       " '',\n",
       " '',\n",
       " \"la liga titles: 34\\ncopa del rey titles: 19\\nsupercopa de espaã±a titles: 11\\nuefa champions league / european cup titles: 13\\nuefa cup titles: 2\\nuefa super cup titles: 4\\nfifa club world cup titles: 4\\nthese numbers add up to a total of 87 major trophies won by real madrid in its storied history. please note that this count might not include any additional trophies won after september 2021. it's recommended to verify the most recent information for the accurate count of trophies won by real madrid.\",\n",
       " 'the \"el clã¡sico\" is one of the most intense and storied rivalries in world football, capturing the hearts of millions of fans globally. it refers to the matches between two spanish football giants: real madrid and fc barcelona. here\\'s a historical overview of the el clã¡sico rivalry:',\n",
       " \"early beginnings:\\nthe rivalry was born in 1929 when fc barcelona and real madrid were among the founding members of la liga, spain's top-tier football league. the initial matches were intense but without the global recognition they later gained.\",\n",
       " \"franco era and dividing loyalties:\\nduring general franco's rule (1939-1975), the rivalry took on political undertones as real madrid became associated with the regime while barcelona represented catalonia's identity and autonomy. this further fueled the passion and animosity between the clubs.\",\n",
       " \"european glory and el clã¡sico's global stage:\\nthe rivalry reached international prominence as both teams achieved success in european competitions. real madrid's five consecutive european cup titles from 1956 to 1960 coincided with the peak of alfredo di stã©fano's influence, while barcelona's successes in the 1970s and early 1980s were emblematic of johan cruyff's era.\",\n",
       " 'modern era: the messi-ronaldo duel:\\nthe 2000s and early 2010s marked an era dominated by lionel messi and cristiano ronaldo, two of the greatest players in football history. their presence amplified the rivalry to unprecedented heights, captivating global audiences. matches became showcases of individual brilliance.',\n",
       " \"political and regional significance:\\nbeyond football, the rivalry embodies the political and cultural tensions between madrid and barcelona, representing the central spanish government's control versus catalonia's aspirations for autonomy. matches are often seen as symbolic clashes of identity.\",\n",
       " 'el clã¡sico moments:\\nnumerous memorable moments have etched the rivalry into football lore:',\n",
       " 'di stã©fano\\'s influence in the 1950s.\\njohan cruyff\\'s time at barcelona and his impact on the club\\'s style.\\n\"la manita\": barcelona\\'s 5-0 victory in 2010.\\nmessi\\'s solo goal in the 2011 champions league semi-final.\\nronaldo\\'s stunning goals and performances.\\nsportsmanship and respect:\\nwhile marked by intense competition, the rivalry has also witnessed displays of sportsmanship and respect. players from both sides have often spoken positively about their rivals off the pitch.',\n",
       " 'global impact:\\nel clã¡sico transcends borders, uniting fans worldwide. it is a fixture that generates incredible television ratings, drawing football enthusiasts regardless of their club allegiances.',\n",
       " 'current state:\\nas of my last knowledge update in september 2021, the rivalry continues to capture the imagination of fans, even in the absence of messi at barcelona and ronaldo at real madrid. the matches remain a highlight of the football calendar, regardless of the players on the field.',\n",
       " 'founding and early years (1929-1940s):\\nla liga was founded in 1929, with ten teams participating in its inaugural season. fc barcelona emerged as the first champions. during this period, real madrid and barcelona established themselves as the dominant forces, each claiming titles and contributing to the early rivalry that would become the famous el clã¡sico.',\n",
       " 'emergence of di stã©fano and puskã¡s (1950s):\\nthe 1950s marked the rise of real madrid as they clinched five consecutive european cup titles from 1956 to 1960. legendary players like alfredo di stã©fano and ferenc puskã¡s defined this era, and their influence elevated the global stature of la liga.',\n",
       " 'cruyff and total football (1970s):\\nthe 1970s saw the arrival of johan cruyff at fc barcelona. his impact on the club\\'s playing style and success reverberated across the league. cruyff\\'s barcelona embraced \"total football,\" emphasizing fluidity and attacking prowess.',\n",
       " 'challenges and globalization (1980s-1990s):\\nla liga faced financial struggles in the 1980s, leading to a decline in competitiveness. however, the league regained strength in the 1990s with international stars like ronaldo and a new generation of spanish talent.',\n",
       " 'galã¡cticos and european triumphs (2000s):\\nreal madrid\\'s \"galã¡cticos\" era, characterized by high-profile signings like zinedine zidane and david beckham, coincided with domestic and european successes. barcelona, under the guidance of frank rijkaard and then pep guardiola, embraced a possession-based style that led to an era of dominance.',\n",
       " \"rivalry intensifies: messi vs. ronaldo (2010s):\\nthe 2010s were defined by the intense rivalry between lionel messi and cristiano ronaldo. barcelona and real madrid's clashes, particularly el clã¡sico, became showcases of individual brilliance. barcelona's tiki-taka and real madrid's counter-attacking prowess captured the football world's attention.\",\n",
       " \"varied champions and global appeal (2020s):\\nrecent years have seen a broader distribution of la liga titles among different clubs, including atlã©tico madrid and sevilla. la liga's appeal remains global, attracting international talent and viewership. technological advancements and new broadcasting deals have further expanded its reach.\",\n",
       " 'challenges and adaptations:\\nla liga has faced challenges such as financial disparities and the competitive shadow of barcelona and real madrid. however, the league has been proactive in addressing issues, including implementing financial fair play regulations and nurturing youth development.',\n",
       " \"la liga beyond football:\\nla liga's impact extends beyond the pitch. it has been an avenue for social integration, economic growth, and cultural exchange. the league's social initiatives and collaborations highlight its commitment to broader societal contributions.\",\n",
       " 'the future of la liga:\\nas la liga looks to the future, it continues to evolve in response to changing dynamics in football. the league seeks to maintain its competitive edge, nurture talent, and remain a key player in the global football landscape.',\n",
       " \"in conclusion, la liga's journey has been one of evolution, innovation, and enduring rivalries. from the early battles between barcelona and real madrid to the rise of global superstars and the league's influence on spanish culture, la liga's major events have shaped its identity as a powerhouse in the world of football.\",\n",
       " \"arly european dominance (1950s):\\nreal madrid's european journey began in the inaugural season of the european cup (now uefa champions league) in 1955-56. the club's illustrious history in the competition was set in motion with a series of triumphs during this decade. led by legendary players like alfredo di stã©fano and ferenc puskã¡s, real madrid clinched the first five european cup titles in 1956, 1957, 1958, 1959, and 1960. this era established the club as a true continental force.\",\n",
       " 'latter-day successes (1980s):\\nafter a period of relative quiet on the european stage, real madrid reemerged as european champions in the 1980s. in 1981 and 1982, the club secured consecutive european cup victories under the leadership of players like santillana and juanito. these triumphs marked a resurgence for the club in the competition.',\n",
       " 'arrival of the galã¡cticos (2000s):\\nthe early 2000s ushered in the \"galã¡cticos\" era at real madrid, characterized by high-profile signings and star-studded lineups. under the management of vicente del bosque and later carlos queiroz, the club claimed the coveted champions league trophy in 2000, defeating valencia in the final. this marked real madrid\\'s eighth european title.',\n",
       " 'la dã©cima and the mourinho era (2010):\\none of the most iconic moments in real madrid\\'s champions league history arrived in 2014. after a 12-year wait, the club secured its 10th european cup, or \"la dã©cima,\" in a dramatic final against atlã©tico madrid. under the guidance of manager josã© mourinho, real madrid conquered europe once again, with cristiano ronaldo\\'s decisive penalty sealing their triumph.',\n",
       " \"three consecutive titles (2016-2018):\\nunder the management of zinedine zidane, real madrid achieved an unprecedented feat by clinching three consecutive champions league titles in 2016, 2017, and 2018. this remarkable run showcased the team's resilience, skill, and ability to perform on the grandest stage. zidane's tactical acumen, coupled with the brilliance of players like cristiano ronaldo, defined this era of dominance.\",\n",
       " \"sergio ramos's last-minute equalizer (2014):\\nin the 2014 champions league final against atlã©tico madrid, real madrid found themselves on the brink of defeat. however, captain sergio ramos rose to the occasion, scoring a last-minute equalizer to force extra time. real madrid ultimately won 4-1, showcasing the team's fighting spirit and determination.\",\n",
       " \"cristiano ronaldo's impact (2009-2018):\\ncristiano ronaldo's stint at real madrid is synonymous with champions league success. his incredible goal-scoring prowess, particularly in the knockout stages, played a pivotal role in the club's achievements. ronaldo's numerous goals and memorable performances solidified his status as a champions league icon.\",\n",
       " \"zidane's return and la decimocuarta (2021):\\nin the 2020s, zinedine zidane returned to manage real madrid once again. in 2021, under his guidance, the club secured its 14th champions league title by defeating manchester city in the semifinals and liverpool in the final. this victory marked another chapter in the club's storied european journey.\",\n",
       " \"\\ncristiano ronaldo's time at real madrid is undoubtedly one of the most remarkable chapters in both his career and the club's history. his nine-year spell from 2009 to 2018 saw him achieve unprecedented success, break records, and solidify his status as one of the greatest footballers of all time. here's an overview of cristiano ronaldo's journey with real madrid:\",\n",
       " \"arrival and early impact (2009-2010):\\ncristiano ronaldo's arrival from manchester united in the summer of 2009 marked a then-world record transfer fee. his initial season showcased his remarkable skill set, speed, and goal-scoring ability. he quickly adapted to the demands of la liga and formed a strong partnership with players like kakã¡ and gonzalo higuaã\\xadn.\",\n",
       " \"la liga triumphs and individual accolades (2010s):\\nronaldo's contributions were instrumental in real madrid's success during the early 2010s. he played a pivotal role in helping the club reclaim the la liga title in the 2011-2012 season after a four-year drought. his goal-scoring prowess was unparalleled, and he consistently outperformed his rivals in the race for the pichichi trophy, awarded to the league's top scorer.\",\n",
       " \"champions league glory and iconic moments (2014-2018):\\nperhaps the pinnacle of ronaldo's time at real madrid was the period from 2014 to 2018. he led the club to an era of unprecedented dominance in the uefa champions league. under the guidance of manager zinedine zidane, real madrid secured three consecutive champions league titles from 2016 to 2018. ronaldo's performances in crucial moments, including his goals in finals and knockout matches, were decisive.\",\n",
       " \"breaking records:\\nronaldo shattered numerous records during his tenure with real madrid. he became the club's all-time leading scorer, surpassing legends like raãºl and di stã©fano. his incredible goal-scoring consistency, aerial ability, and versatility showcased his evolution as a complete forward.\",\n",
       " \"individual awards and achievements:\\nduring his time with real madrid, ronaldo won multiple individual awards, including the fifa ballon d'or. his rivalry with lionel messi for the title of the world's best player captured global attention. his individual accolades mirrored the collective successes he achieved with the club.\",\n",
       " \"departure and legacy:\\nin 2018, cristiano ronaldo made a surprising move to juventus, ending his illustrious real madrid journey. his departure left a void in the squad and marked the end of an era. his legacy, however, remains firmly intact. his impact on real madrid's history is undeniable, and his contributions are celebrated by fans and football enthusiasts alike.\",\n",
       " \"cristiano ronaldo's time at real madrid symbolized an era of excellence, triumphs, and individual brilliance. his ability to consistently perform at the highest level, his unmatched work ethic, and his unrelenting hunger for success elevated real madrid to new heights and solidified his own place among the sport's legends.\",\n",
       " \"florentino pã©rez is a prominent figure in the history of real madrid, having served as the club's president in two non-consecutive terms. his impact on the club, both on and off the field, has been significant, and he's known for his ambitious projects, high-profile signings, and his role in transforming real madrid into a global brand. here's an overview of florentino pã©rez and his relationship with real madrid:\",\n",
       " 'first presidency (2000-2006):\\nflorentino pã©rez\\'s first term as president began in 2000. he came to power with the promise of building a \"galã¡cticos\" team â€“ a star-studded lineup featuring some of the world\\'s most renowned players. this era saw the signings of players like luã\\xads figo, zinedine zidane, ronaldo, and david beckham. under his leadership, real madrid achieved both domestic and international success, including two uefa champions league titles in 2002 and 2006.',\n",
       " \"stadium renovation and commercial growth:\\none of pã©rez's most ambitious projects during his first presidency was the renovation of the santiago bernabã©u stadium. the stadium's modernization aimed to enhance fan experience and generate additional revenue streams. pã©rez's business acumen contributed to real madrid's rise as one of the most valuable and commercially successful football clubs in the world.\",\n",
       " 'departure and second presidency (2009-present):\\nafter leaving the presidency in 2006, pã©rez returned to lead real madrid once again in 2009. his second term has been marked by a continuation of his emphasis on high-profile signings and the pursuit of on-field success. during this period, the club experienced a period of dominance in the uefa champions league, winning multiple titles under the management of zinedine zidane.',\n",
       " '\"galã¡cticos 2.0\" and the galã¡cticos project:\\nin his second term, pã©rez continued to invest in marquee signings, pursuing what was dubbed \"galã¡cticos 2.0.\" players like gareth bale, cristiano ronaldo, and later eden hazard were brought in to reinforce the team\\'s attacking prowess. the goal was to maintain real madrid\\'s status as a global football powerhouse.',\n",
       " \"criticism and financial realities:\\nwhile pã©rez's approach brought success, it also faced criticism for prioritizing expensive signings over youth development and team balance. the club's financial situation, particularly in light of the covid-19 pandemic, led to constraints on transfers and a greater emphasis on fiscal responsibility.\",\n",
       " \"european dominance and legacy:\\nunder pã©rez's leadership, real madrid secured three consecutive uefa champions league titles from 2016 to 2018, showcasing the team's ability to perform on the grandest stage. his legacy includes steering real madrid through periods of triumph and transition, while his impact on the club's commercial growth and global brand recognition is undeniable.\",\n",
       " \"challenges and future:\\npã©rez's presidency has seen its fair share of challenges, from managing club finances to addressing fan concerns. his ability to navigate these challenges will influence the future trajectory of real madrid both on and off the field.\",\n",
       " \"florentino pã©rez's tenure as real madrid's president has left an enduring mark on the club's identity, strategy, and global stature. his legacy is intertwined with the pursuit of excellence, bold projects, and a commitment to maintaining real madrid's status as a football institution with a global footprint.\",\n",
       " '',\n",
       " '\\n']"
      ]
     },
     "execution_count": 401,
     "metadata": {},
     "output_type": "execute_result"
    }
   ],
   "source": [
    "sentance_token"
   ]
  },
  {
   "cell_type": "code",
   "execution_count": 402,
   "id": "a6b8dc75",
   "metadata": {},
   "outputs": [],
   "source": [
    "lem = nltk.stem.WordNetLemmatizer()"
   ]
  },
  {
   "cell_type": "code",
   "execution_count": 403,
   "id": "4864ef0f",
   "metadata": {},
   "outputs": [],
   "source": [
    "def GREETINGS(txt):\n",
    "    if txt.split()[0] in [i.lower() for i in GREETINGS_INPUT]:\n",
    "        return random.choice(GREETINGS_RES)\n",
    "    else :\n",
    "        return \"I dont understand what do you mean!, anyways how can i help you\""
   ]
  },
  {
   "cell_type": "code",
   "execution_count": 421,
   "id": "dd949a51",
   "metadata": {},
   "outputs": [],
   "source": [
    "def lemnorm(text):\n",
    "    res = nltk.word_tokenize(text.lower().translate(rempun))\n",
    "    return [lem.lemmatize(i) for i in res]\n",
    "def coreFun(userResp):\n",
    "    cres = ''\n",
    "    TfVec = TfidfVectorizer(tokenizer=lemnorm,stop_words=\"english\",max_df=0.85, min_df=0.008)\n",
    "    prodata = TfVec.fit_transform(sentance_token)\n",
    "    userResp = nltk.sent_tokenize(userResp)\n",
    "    userResp = TfVec.transform(userResp)\n",
    "    cosinesim = cosine_similarity(userResp,prodata)\n",
    "    maxsim = cosinesim.argsort()\n",
    "    ind = maxsim[0]\n",
    "    res = maxsim.flatten()\n",
    "    res.sort()\n",
    "    resf = res[-1]\n",
    "    if(resf!=0):\n",
    "        for i in ind[::-1][:5]:\n",
    "            cres=cres+sentance_token[i] +\"\\n\\n\"\n",
    "\n",
    "        return cres\n",
    "    else:\n",
    "        cres=cres+\"I cant find the answer or no related information available.\"\n",
    "        return cres\n",
    "        \n",
    "        \n",
    "        \n"
   ]
  },
  {
   "cell_type": "code",
   "execution_count": 440,
   "id": "e0469ba8",
   "metadata": {},
   "outputs": [
    {
     "name": "stdout",
     "output_type": "stream",
     "text": [
      "karim benzema: a modern-day stalwart, karim benzema has consistently been a dependable source of goals and creativity for real madrid. his link-up play, movement, and ability to score crucial goals in big matches have made him an integral part of the team's success during the 2010s, including multiple champions league triumphs.\n",
      "\n",
      "karim benzema: mentioned earlier, benzema's longevity and consistency warrant reiteration. his evolution into a complete striker, with exceptional link-up play and goal-scoring ability, has made him a pillar of real madrid's attack during the modern era.\n",
      "\n",
      "zidane's ability to manage egos and extract the best from his players was evident during his tenure. the \"bbc\" trioâ€”gareth bale, karim benzema, and cristiano ronaldoâ€”thrived under his guidance, spearheading the team's attacking prowess. the champions league victories of this period solidified real madrid's reputation as a force to be reckoned with in european football.\n",
      "\n",
      "\n",
      "\n",
      "\n",
      "zinedine zidane: while his time at real madrid as a player was relatively brief, zinedine zidane's impact was monumental. his elegance, vision, and masterful control of the ball made him a pivotal figure in the club's quest for success. zidane's iconic volley in the 2002 champions league final stands as a testament to his ability to deliver on the grandest stages. in his later role as a manager, zidane continued his legacy by leading the team to three consecutive champions league titles from 2016 to 2018.\n",
      "\n",
      "\n"
     ]
    }
   ],
   "source": [
    "print(coreFun(\"benzema\"))"
   ]
  },
  {
   "cell_type": "code",
   "execution_count": null,
   "id": "b548d18d",
   "metadata": {},
   "outputs": [],
   "source": []
  }
 ],
 "metadata": {
  "kernelspec": {
   "display_name": "Python 3 (ipykernel)",
   "language": "python",
   "name": "python3"
  },
  "language_info": {
   "codemirror_mode": {
    "name": "ipython",
    "version": 3
   },
   "file_extension": ".py",
   "mimetype": "text/x-python",
   "name": "python",
   "nbconvert_exporter": "python",
   "pygments_lexer": "ipython3",
   "version": "3.9.12"
  }
 },
 "nbformat": 4,
 "nbformat_minor": 5
}
